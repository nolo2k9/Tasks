{
 "cells": [
  {
   "cell_type": "code",
   "execution_count": null,
   "metadata": {},
   "outputs": [],
   "source": [
    "def sqaureRoot(n):\n",
    "    x = int(n)\n",
    "    y = int(1)\n",
    "    \n",
    "    e = 0.100\n",
    "    we(x-y>e)\n",
    "    \n",
    "    x=(x+y)//2\n",
    "    y=n\n",
    "    \n",
    "    return int(x)\n",
    "n=2 * 100 ** 200\n"
   ]
  }
 ],
 "metadata": {
  "kernelspec": {
   "display_name": "Python 3",
   "language": "python",
   "name": "python3"
  },
  "language_info": {
   "codemirror_mode": {
    "name": "ipython",
    "version": 3
   },
   "file_extension": ".py",
   "mimetype": "text/x-python",
   "name": "python",
   "nbconvert_exporter": "python",
   "pygments_lexer": "ipython3",
   "version": "3.8.3"
  }
 },
 "nbformat": 4,
 "nbformat_minor": 4
}
