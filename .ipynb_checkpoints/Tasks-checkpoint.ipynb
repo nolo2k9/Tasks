{
 "cells": [
  {
   "cell_type": "markdown",
   "metadata": {},
   "source": [
    "# Tasks\n",
    "***"
   ]
  },
  {
   "cell_type": "markdown",
   "metadata": {},
   "source": [
    "These are my solutions to the Tasks assesment to be completed as part of my Emerging Technologies module. Author Keith Nolan.\n",
    "Email: (g00351932@gmit.ie)\n",
    "\n",
    "***"
   ]
  },
  {
   "cell_type": "markdown",
   "metadata": {},
   "source": [
    "# Task 1\n"
   ]
  },
  {
   "cell_type": "markdown",
   "metadata": {},
   "source": [
    "The first of these tasks is to write a Python function called sqrt2.\n",
    "Thich calculates and prints to the screen the square root of 2 to 100 decimal places.\n",
    "Below is my solution.\n"
   ]
  },
  {
   "cell_type": "markdown",
   "metadata": {},
   "source": [
    "***"
   ]
  },
  {
   "cell_type": "markdown",
   "metadata": {},
   "source": [
    "### Task: Calculate a sqaure root\n",
    "***\n",
    "\n",
    "The sqaure root of a number can be calculated using Newton's Method. [1]\n",
    "\n",
    "To find the sqaure root $z$ of a number $x$, we can iterate using the following equation.\n",
    "\n",
    "Add in how it works\n",
    "\n",
    "$$ z' = z - \\frac{z^2 - x}{2z} $$\n",
    "\n",
    "[1] A tour of go. Exercise: Loops and Functions https://tour.golang.com/flowcontrol/8"
   ]
  },
  {
   "cell_type": "code",
   "execution_count": 10,
   "metadata": {},
   "outputs": [],
   "source": [
    "def sqrt2(x):\n",
    "    \"\"\" \n",
    "    function to calculate the sqaure root of 2 to 100 decimal places\n",
    "    \"\"\"\n",
    "    #initial guess for the square root of z\n",
    "    z = x / 2\n",
    "    #loop until we're happy with the accuracy\n",
    "    while abs(x -(z * z)) > 0.0001:\n",
    "        #calculate a better guess for the square root\n",
    "        z -= (z*z - x) / (2*z)\n",
    "    #Return the approximate square root of 2\n",
    "    \n",
    "    return print(\"%.100f\" % z)\n"
   ]
  },
  {
   "cell_type": "markdown",
   "metadata": {},
   "source": [
    "#### Testing the above function"
   ]
  },
  {
   "cell_type": "code",
   "execution_count": 12,
   "metadata": {},
   "outputs": [
    {
     "name": "stdout",
     "output_type": "stream",
     "text": [
      "1.4142156862745098866440685014822520315647125244140625000000000000000000000000000000000000000000000000\n"
     ]
    }
   ],
   "source": [
    "#Testing the above function\n",
    "sqrt2(2)"
   ]
  },
  {
   "cell_type": "markdown",
   "metadata": {},
   "source": [
    "#### Testing the function on 2 using the math.sqrt function\n",
    "Below the above function is being tested with some known values"
   ]
  },
  {
   "cell_type": "code",
   "execution_count": 17,
   "metadata": {},
   "outputs": [
    {
     "data": {
      "text/plain": [
       "1.4142135623730951"
      ]
     },
     "execution_count": 17,
     "metadata": {},
     "output_type": "execute_result"
    }
   ],
   "source": [
    "import math\n",
    "math.sqrt(2)"
   ]
  },
  {
   "cell_type": "markdown",
   "metadata": {},
   "source": [
    "# Task 2\n",
    "Chi-squared test for independence\n",
    "****\n"
   ]
  },
  {
   "cell_type": "markdown",
   "metadata": {},
   "source": [
    "The goal of this task is to use scipy.stats to verify this value and calculate the associated p value.\n",
    "***"
   ]
  },
  {
   "cell_type": "code",
   "execution_count": 43,
   "metadata": {},
   "outputs": [
    {
     "name": "stdout",
     "output_type": "stream",
     "text": [
      "0.0004098425861096696\n",
      "6\n",
      "24.5712028585826\n",
      "[[ 80.53846154  80.53846154 107.38461538  80.53846154]\n",
      " [ 34.84615385  34.84615385  46.46153846  34.84615385]\n",
      " [ 34.61538462  34.61538462  46.15384615  34.61538462]]\n"
     ]
    }
   ],
   "source": [
    "import scipy.stats as stats\n",
    "\n",
    "obs =[[90, 60, 104, 95], [30, 50, 51, 20],[30, 40, 45, 35]]\n",
    "\n",
    "g, p, dof, expctd = chi2_contingency(obs)\n",
    "\n",
    "\n",
    "#chi2_contingency(obs)\n",
    "print(p)\n",
    "print(dof)\n",
    "print(g)\n",
    "print(expctd)"
   ]
  },
  {
   "cell_type": "markdown",
   "metadata": {},
   "source": [
    "****"
   ]
  },
  {
   "cell_type": "markdown",
   "metadata": {},
   "source": [
    "# Task 3\n",
    "Standard deviation"
   ]
  },
  {
   "cell_type": "markdown",
   "metadata": {},
   "source": [
    "*****"
   ]
  },
  {
   "cell_type": "markdown",
   "metadata": {},
   "source": [
    "The goals of this task are:\n",
    "- to research the Excel functions STDDEV.P and STDDEV.S and explain their differences\n",
    "- use numpy to perform a simulation demonstrating that the STDDEV.S calculation is a better estimate for the standard deviation of a population when performed on a sample.\n",
    "\n",
    "#### STDDEV.P\n",
    "<b>STDDEV.P</b> is used to calculate the standard deviation of a whole population. The p in STDDEV stands for population. For example if you had a set of data that contains all of the members of some specified group. A population could be <b>ALL</b> of the people studying in your college. \n",
    "\n",
    "The formula we use for <b> standard deviation for a population</b> is:\n",
    "\n",
    "$$ \\sigma x = \\sqrt \\frac {1}{n} \\sum \\limits_{i=1}  ^{n} ( x_i - \\bar x )^2$$\n",
    "***\n",
    "\n",
    "<b>Mean absolute deviation</b>\n",
    "The mean absolute deviation of a dataset is the average distance between each data point and the mean.\n",
    "\n",
    "Below is the formula to calculate the <b>Mean Absolute Variance of a Population</b>\n",
    "\n",
    "$$Population (MAD)= \\frac{1}{n} \\sum \\limits_{i=1}  ^{n}| x_i - \\bar x $$\n",
    "***\n",
    "#### STDDEV.S\n",
    "<b>STDDEV.S</b> is used when you have a sample of a dataset such as a sample of a population. For example if you wanted to find some of the students in your college who identify as female. This would be used to generalise this dample to the entire popuation. The sample will then be used as an estimate of the entire population.\n",
    "\n",
    "The formula we use for standard deviation on a <b>sample of a population</b> is:\n",
    "$$ S x = \\sqrt \\frac {1}{n -1} \\sum \\limits_{i=1}  ^{n} ( x_i - \\bar x )^2$$\n",
    "\n",
    "\n",
    "Below is the equation to calculate the <b>Mean Absolute Variance of a sample of a Population</b>\n",
    "\n",
    "$$Sample (MAD)= \\frac{1}{n -1} \\sum \\limits_{i=1}  ^{n}| x_i - \\bar x $$\n",
    "***\n",
    "\n",
    "\n",
    "[1] Writing Matimatical Formulas in Markdown: https://csrgxtu.github.io/2015/03/20/Writing-Mathematic-Fomulars-in-Markdown/\n",
    "***\n",
    "[2] Explanation for Mean Absolute Devation: https://www.khanacademy.org/math/statistics-probability/summarizing-quantitative-data/other-measures-of-spread/a/mean-absolute-deviation-mad-review\n",
    "***\n",
    "[3] Population and sample deviation review: https://www.khanacademy.org/math/statistics-probability/summarizing-quantitative-data/variance-standard-deviation-sample/a/population-and-sample-standard-deviation-review\n",
    "***\n",
    "[4] Population vs Sample data: http://mathbitsnotebook.com/Algebra1/StatisticsData/STPopSample.html\n"
   ]
  },
  {
   "cell_type": "markdown",
   "metadata": {},
   "source": []
  },
  {
   "cell_type": "code",
   "execution_count": null,
   "metadata": {},
   "outputs": [],
   "source": []
  }
 ],
 "metadata": {
  "kernelspec": {
   "display_name": "Python 3",
   "language": "python",
   "name": "python3"
  },
  "language_info": {
   "codemirror_mode": {
    "name": "ipython",
    "version": 3
   },
   "file_extension": ".py",
   "mimetype": "text/x-python",
   "name": "python",
   "nbconvert_exporter": "python",
   "pygments_lexer": "ipython3",
   "version": "3.8.3"
  }
 },
 "nbformat": 4,
 "nbformat_minor": 4
}
