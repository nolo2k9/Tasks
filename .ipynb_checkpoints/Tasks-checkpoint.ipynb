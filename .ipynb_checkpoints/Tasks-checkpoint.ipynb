{
 "cells": [
  {
   "cell_type": "markdown",
   "metadata": {},
   "source": [
    "# Tasks\n",
    "***"
   ]
  },
  {
   "cell_type": "markdown",
   "metadata": {},
   "source": [
    "These are my solutions to the Tasks assesment to be completed as part of my Emerging Technologies module. Author Keith Nolan.\n",
    "Email: (g00351932@gmit.ie)\n",
    "\n",
    "***"
   ]
  },
  {
   "cell_type": "markdown",
   "metadata": {},
   "source": [
    "# Task 1\n"
   ]
  },
  {
   "cell_type": "markdown",
   "metadata": {},
   "source": [
    "The first of these tasks is to write a Python function called sqrt2.\n",
    "Thich calculates and prints to the screen the square root of 2 to 100 decimal places.\n",
    "Below is my solution.\n"
   ]
  },
  {
   "cell_type": "markdown",
   "metadata": {},
   "source": [
    "***"
   ]
  },
  {
   "cell_type": "markdown",
   "metadata": {},
   "source": [
    "### Task: Calculate a sqaure root\n",
    "***\n",
    "\n",
    "The sqaure root of a number can be calculated using Newton's Method. [1]\n",
    "\n",
    "To find the sqaure root $z$ of a number $x$, we can iterate using the following equation.\n",
    "\n",
    "Add in how it works\n",
    "\n",
    "$$ z' = z - \\frac{z^2 - x}{2z} $$\n",
    "\n",
    "[1] A tour of go. Exercise: Loops and Functions https://tour.golang.com/flowcontrol/8"
   ]
  },
  {
   "cell_type": "code",
   "execution_count": 10,
   "metadata": {},
   "outputs": [],
   "source": [
    "def sqrt2(x):\n",
    "    \"\"\" \n",
    "    function to calculate the sqaure root of 2 to 100 decimal places\n",
    "    \"\"\"\n",
    "    #initial guess for the square root of z\n",
    "    z = x / 2\n",
    "    #loop until we're happy with the accuracy\n",
    "    while abs(x -(z * z)) > 0.0001:\n",
    "        #calculate a better guess for the square root\n",
    "        z -= (z*z - x) / (2*z)\n",
    "    #Return the approximate square root of 2\n",
    "    \n",
    "    return print(\"%.100f\" % z)\n"
   ]
  },
  {
   "cell_type": "markdown",
   "metadata": {},
   "source": [
    "#### Testing the above function"
   ]
  },
  {
   "cell_type": "code",
   "execution_count": 12,
   "metadata": {},
   "outputs": [
    {
     "name": "stdout",
     "output_type": "stream",
     "text": [
      "1.4142156862745098866440685014822520315647125244140625000000000000000000000000000000000000000000000000\n"
     ]
    }
   ],
   "source": [
    "#Testing the above function\n",
    "sqrt2(2)"
   ]
  },
  {
   "cell_type": "markdown",
   "metadata": {},
   "source": [
    "#### Testing the function on 2 using the math.sqrt function\n",
    "Below the above function is being tested with some known values"
   ]
  },
  {
   "cell_type": "code",
   "execution_count": 17,
   "metadata": {},
   "outputs": [
    {
     "data": {
      "text/plain": [
       "1.4142135623730951"
      ]
     },
     "execution_count": 17,
     "metadata": {},
     "output_type": "execute_result"
    }
   ],
   "source": [
    "import math\n",
    "math.sqrt(2)"
   ]
  },
  {
   "cell_type": "markdown",
   "metadata": {},
   "source": [
    "***"
   ]
  },
  {
   "cell_type": "markdown",
   "metadata": {},
   "source": [
    "# Task 2\n",
    "Chi-squared test for independence\n",
    "****\n"
   ]
  },
  {
   "cell_type": "markdown",
   "metadata": {},
   "source": [
    "The goal of this task is: \n",
    "- to use scipy.stats to verify this value and calculate the associated p value.\n",
    "***\n",
    "\n",
    "The Chi-Square Test of Independence is a non-parametric test which determines whether the variables are independent or related. To analyse the data a cotingency table is used.\n",
    "***\n",
    "\n",
    "#### Cotingency table\n",
    "\n",
    "A contingency table \"(also known as a cross-tabulation, crosstab, or two-way table) is an arrangement in which data is classified according to two categorical variables. The categories for one variable appear in the rows, and the categories for the other variable appear in columns. Each variable must have two or more categories. Each cell reflects the total count of cases for a specific pair of categories.\"[1]\n",
    "***\n",
    "#### Hypotheses \n",
    "<b>H0</b> states that there is no association between the variables, that they are <b>independant</b> of eachother.\n",
    "<b>H1</b> states that their is an association between them that they are <b>dependent</b> somehow.\n",
    "\n",
    "#### Formula\n",
    "The <b>formula for the Chi squared test</b> is shown below:\n",
    "\n",
    "$$ x^2 = \\sum \\limits \\frac {(O_i - E_i)^2} {E_i} $$\n",
    "\n",
    "The formula is based on the <b>expected and the observed values</b> where the expected is the expected number of observations and the observed is the actual number of observations. \n",
    "To calculate the <b>p value</b>. The expected values must be greater than 5 and the sample size must not be greater than 10% of the population. If these condtions are met we take away the actual data point from the expected over the expected squared. We then repeat the same for all of the data points and expected values. We then add them all together. When this is done we get a <b>Chi value</b>.\n",
    "\n",
    "We then must get our <b>degrees of freedom</b> which the (number of columns -1)(number of rows -1). So in a 3x3 table thsi would be (3-1)(3-1) = 4. Then the p value can be calculated. This is then compared to a significance level.\n",
    "***\n",
    "#### All references for this task\n",
    "***\n",
    "[1] Chi-Squared test of indepenence: https://libguides.library.kent.edu/spss/chisquare\n",
    "***\n",
    "[2] Chi-square test for association (independence): https://www.khanacademy.org/math/ap-statistics/chi-square-tests/chi-square-tests-two-way-tables/v/chi-square-test-association-independence\n",
    "***\n",
    "[3] Chi squared test wiki: https://en.wikipedia.org/wiki/Chi-squared_test\n",
    "***\n",
    "[4] scipy.stats.chi2_contingency: https://docs.scipy.org/doc/scipy/reference/generated/scipy.stats.chi2_contingency.html\n",
    "\n",
    "***"
   ]
  },
  {
   "cell_type": "code",
   "execution_count": 34,
   "metadata": {},
   "outputs": [
    {
     "name": "stdout",
     "output_type": "stream",
     "text": [
      "********\n",
      "Expected values: \n",
      "[[ 80.53846154  80.53846154 107.38461538  80.53846154]\n",
      " [ 34.84615385  34.84615385  46.46153846  34.84615385]\n",
      " [ 34.61538462  34.61538462  46.15384615  34.61538462]]\n",
      "********\n",
      "Chi-squared value:\n",
      "24.5712028585826\n",
      "********\n",
      "Degree of freedom: \n",
      "6\n",
      "********\n",
      "P value: \n",
      "0.0004098425861096696\n",
      "********\n"
     ]
    }
   ],
   "source": [
    "from scipy.stats import chi2_contingency\n",
    "#table of observed frequencies\n",
    "obs =[[90, 60, 104, 95], [30, 50, 51, 20],[30, 40, 45, 35]]\n",
    "'''\n",
    "p - The p-value of the test.\n",
    "e -  Chi-squared value \n",
    "dof - Degrees of freedom.\n",
    "expected - The expected frequencies, based on the marginal sums of the table.\n",
    "'''\n",
    "g, p, dof, expctd = chi2_contingency(obs)\n",
    "\n",
    "\n",
    "#printing results\n",
    "print(\"********\")\n",
    "print(\"Expected values: \")\n",
    "print(expctd)\n",
    "print(\"********\")\n",
    "print(\"Chi-squared value:\")\n",
    "print(g)\n",
    "print(\"********\")\n",
    "print(\"Degree of freedom: \")\n",
    "print(dof)\n",
    "print(\"********\")\n",
    "print(\"P value: \")\n",
    "print(p)\n",
    "print(\"********\")\n"
   ]
  },
  {
   "cell_type": "markdown",
   "metadata": {},
   "source": [
    "****"
   ]
  },
  {
   "cell_type": "markdown",
   "metadata": {},
   "source": [
    "# Task 3\n",
    "Standard deviation"
   ]
  },
  {
   "cell_type": "markdown",
   "metadata": {},
   "source": [
    "*****"
   ]
  },
  {
   "cell_type": "markdown",
   "metadata": {},
   "source": [
    "The goals of this task are:\n",
    "- to research the Excel functions STDDEV.P and STDDEV.S and explain their differences\n",
    "- use numpy to perform a simulation demonstrating that the STDDEV.S calculation is a better estimate for the standard deviation of a population when performed on a sample.\n",
    "\n",
    "#### STDDEV.P\n",
    "<b>STDDEV.P</b> is used to calculate the standard deviation of a whole population. The p in STDDEV stands for population. For example if you had a set of data that contains all of the members of some specified group. A population could be <b>ALL</b> of the people studying in your college. \n",
    "\n",
    "The formula we use for <b> standard deviation for a population</b> is:\n",
    "\n",
    "$$ \\sigma x = \\sqrt \\frac {1}{n} \\sum \\limits_{i=1}  ^{n} ( x_i - \\bar x )^2$$\n",
    "***\n",
    "\n",
    "<b>Mean absolute deviation</b>\n",
    "The mean absolute deviation of a dataset is the average distance between each data point and the mean.\n",
    "\n",
    "Below is the formula to calculate the <b>Mean Absolute Variance of a Population</b>\n",
    "\n",
    "$$Population (MAD)= \\frac{1}{n} \\sum \\limits_{i=1}  ^{n}| x_i - \\bar x $$\n",
    "***\n",
    "#### STDDEV.S\n",
    "<b>STDDEV.S</b> is used when you have a sample of a dataset such as a sample of a population. For example if you wanted to find some of the students in your college who identify as female. This would be used to generalise this dample to the entire popuation. The sample will then be used as an estimate of the entire population.\n",
    "\n",
    "The formula we use for standard deviation on a <b>sample of a population</b> is:\n",
    "$$ S x = \\sqrt \\frac {1}{n -1} \\sum \\limits_{i=1}  ^{n} ( x_i - \\bar x )^2$$\n",
    "\n",
    "\n",
    "Below is the equation to calculate the <b>Mean Absolute Variance of a sample of a Population</b>\n",
    "\n",
    "$$Sample (MAD)= \\frac{1}{n -1} \\sum \\limits_{i=1}  ^{n}| x_i - \\bar x $$\n",
    "***\n",
    "\n",
    "#### All references for this task\n",
    "***\n",
    "[1] Writing Matimatical Formulas in Markdown: https://csrgxtu.github.io/2015/03/20/Writing-Mathematic-Fomulars-in-Markdown/\n",
    "***\n",
    "[2] Explanation for Mean Absolute Devation: https://www.khanacademy.org/math/statistics-probability/summarizing-quantitative-data/other-measures-of-spread/a/mean-absolute-deviation-mad-review\n",
    "***\n",
    "[3] Population and sample deviation review: https://www.khanacademy.org/math/statistics-probability/summarizing-quantitative-data/variance-standard-deviation-sample/a/population-and-sample-standard-deviation-review\n",
    "***\n",
    "[4] Population vs Sample data: http://mathbitsnotebook.com/Algebra1/StatisticsData/STPopSample.html\n",
    "***\n",
    "[5] numpy.std: https://numpy.org/doc/stable/reference/generated/numpy.std.html"
   ]
  },
  {
   "cell_type": "markdown",
   "metadata": {},
   "source": []
  },
  {
   "cell_type": "code",
   "execution_count": 40,
   "metadata": {},
   "outputs": [
    {
     "name": "stdout",
     "output_type": "stream",
     "text": [
      "221.80481284228256\n",
      "221.80255859660411\n"
     ]
    }
   ],
   "source": [
    "import numpy as np\n",
    "#defining array \n",
    "# [5]\n",
    "x = np.array([[17, 200], [123, 443]])\n",
    "#STDDEV.P function\n",
    "a = np.sqrt(np.sum((x - np.mean(x))**2)/len(x))\n",
    "#STDDEV.S function\n",
    "b = np.sqrt(np.sum((x - np.mean(x))**2)/len(x)-1)\n",
    "#printing results\n",
    "print(a)\n",
    "print(b)"
   ]
  },
  {
   "cell_type": "markdown",
   "metadata": {},
   "source": [
    "##### STDDEV.S is a better estimate for the STDDEV of a population when performed on a sample.\n",
    "When working with a sample of the entire population dividing by n-1 as opposed to just n gives a slightly different outcome. In turn this gives a better mathematical estimate of the population.\n",
    "\n",
    "\"Think of dividing by n - 1 (instead of n) in the sample as a means of \"compensating\" for the fact that we are working with a sample of the population, rather than with the entire population. It statistically gives the best estimate.\" [4]\n",
    "\n",
    "\n"
   ]
  },
  {
   "cell_type": "code",
   "execution_count": null,
   "metadata": {},
   "outputs": [],
   "source": []
  }
 ],
 "metadata": {
  "kernelspec": {
   "display_name": "Python 3",
   "language": "python",
   "name": "python3"
  },
  "language_info": {
   "codemirror_mode": {
    "name": "ipython",
    "version": 3
   },
   "file_extension": ".py",
   "mimetype": "text/x-python",
   "name": "python",
   "nbconvert_exporter": "python",
   "pygments_lexer": "ipython3",
   "version": "3.8.3"
  }
 },
 "nbformat": 4,
 "nbformat_minor": 4
}
