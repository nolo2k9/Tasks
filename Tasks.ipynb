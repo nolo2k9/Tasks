{
 "cells": [
  {
   "cell_type": "markdown",
   "metadata": {},
   "source": [
    "# Tasks\n",
    "***"
   ]
  },
  {
   "cell_type": "markdown",
   "metadata": {},
   "source": [
    "These are my solutions to the Tasks assesment to be completed as part of my Emerging Technologies module. Author Keith Nolan.\n",
    "Email: (g00351932@gmit.ie)\n",
    "\n",
    "***"
   ]
  },
  {
   "cell_type": "markdown",
   "metadata": {},
   "source": [
    "# Task 1\n"
   ]
  },
  {
   "cell_type": "markdown",
   "metadata": {},
   "source": [
    "The first of these tasks is to write a Python function called sqrt2.\n",
    "Thich calculates and prints to the screen the square root of 2 to 100 decimal places.\n",
    "Below is my solution.\n"
   ]
  },
  {
   "cell_type": "markdown",
   "metadata": {},
   "source": [
    "***"
   ]
  },
  {
   "cell_type": "markdown",
   "metadata": {},
   "source": [
    "### Task: Calculate a sqaure root\n",
    "***\n",
    "\n",
    "The sqaure root of a number can be calculated using Newton's Method. [1]\n",
    "\n",
    "To find the sqaure root $z$ of a number $x$, we can iterate using the following equation.\n",
    "\n",
    "Add in how it works\n",
    "\n",
    "$$ z' = z - \\frac{z^2 - x}{2z} $$\n",
    "\n",
    "[1] A tour of go. Exercise: Loops and Functions https://tour.golang.com/flowcontrol/8"
   ]
  },
  {
   "cell_type": "markdown",
   "metadata": {},
   "source": [
    "def sqrt2(x):\n",
    "    \"\"\" \n",
    "    function to calculate the sqaure root of 2 to 100 decimal places\n",
    "    \"\"\"\n",
    "    #initial guess for the square root of z\n",
    "    z = x / 2\n",
    "    #loop until we're happy with the accuracy\n",
    "    while abs(x -(z * z)) > 0.0001:\n",
    "        #calculate a better guess for the square root\n",
    "        z -= (z*z - x) / (2*z)\n",
    "    #Return the approximate square root of 2\n",
    "    \n",
    "    return print(\"%.100f\" % z)\n",
    "#anwser = sqrt2(2)\n",
    "#print(\"%100f\" % result)"
   ]
  },
  {
   "cell_type": "markdown",
   "metadata": {},
   "source": [
    "#### Testing the above function"
   ]
  },
  {
   "cell_type": "markdown",
   "metadata": {},
   "source": [
    "#### Tesing the function on 2\n",
    "Below the above function is being tested with some known values"
   ]
  },
  {
   "cell_type": "code",
   "execution_count": 16,
   "metadata": {},
   "outputs": [
    {
     "name": "stdout",
     "output_type": "stream",
     "text": [
      "1.4142156862745098866440685014822520315647125244140625000000000000000000000000000000000000000000000000\n"
     ]
    }
   ],
   "source": [
    "#Test the above function on 2\n",
    "sqrt2(2)"
   ]
  },
  {
   "cell_type": "code",
   "execution_count": 17,
   "metadata": {},
   "outputs": [
    {
     "data": {
      "text/plain": [
       "1.4142135623730951"
      ]
     },
     "execution_count": 17,
     "metadata": {},
     "output_type": "execute_result"
    }
   ],
   "source": [
    "import math\n",
    "math.sqrt(2)"
   ]
  },
  {
   "cell_type": "code",
   "execution_count": 43,
   "metadata": {},
   "outputs": [
    {
     "name": "stdout",
     "output_type": "stream",
     "text": [
      "0.0004098425861096696\n",
      "6\n",
      "24.5712028585826\n",
      "[[ 80.53846154  80.53846154 107.38461538  80.53846154]\n",
      " [ 34.84615385  34.84615385  46.46153846  34.84615385]\n",
      " [ 34.61538462  34.61538462  46.15384615  34.61538462]]\n"
     ]
    }
   ],
   "source": [
    "import scipy.stats as stats\n",
    "\n",
    "obs =[[90, 60, 104, 95], [30, 50, 51, 20],[30, 40, 45, 35]]\n",
    "\n",
    "g, p, dof, expctd = chi2_contingency(obs)\n",
    "\n",
    "\n",
    "#chi2_contingency(obs)\n",
    "print(p)\n",
    "print(dof)\n",
    "print(g)\n",
    "print(expctd)"
   ]
  },
  {
   "cell_type": "code",
   "execution_count": 40,
   "metadata": {},
   "outputs": [
    {
     "name": "stdout",
     "output_type": "stream",
     "text": [
      "               A   B    C   D\n",
      "White Collar  90  60  104  95\n",
      "Blue Collar   30  50   51  20\n",
      "No collar     30  40   45  35\n",
      "P value for effect of area on proportion of each collar:\n",
      "0.0004098425861096696\n",
      "\n",
      "Expected numbers if area did not effect proportion of each collar:\n",
      "[[ 80.53846154  80.53846154 107.38461538  80.53846154]\n",
      " [ 34.84615385  34.84615385  46.46153846  34.84615385]\n",
      " [ 34.61538462  34.61538462  46.15384615  34.61538462]]\n",
      "6\n",
      "24.5712028585826\n"
     ]
    }
   ],
   "source": [
    "import numpy as np\n",
    "import pandas as pd\n",
    "import scipy.stats as stats\n",
    "\n",
    "cols = ['A', 'B', 'C', 'D']\n",
    "data = pd.DataFrame(columns=cols)\n",
    "\n",
    "data.loc['White Collar'] = [90, 60, 104, 95]\n",
    "data.loc['Blue Collar'] = [30, 50, 51, 20]\n",
    "data.loc['No collar'] = [30, 40, 45, 35]\n",
    "\n",
    "print (data)\n",
    "V, p, dof, expected = stats.chi2_contingency(data) \n",
    "\n",
    "# add correction=False for uncorrected Chi-square\n",
    "print ('P value for effect of area on proportion of each collar:')\n",
    "print (p)\n",
    "print ('\\nExpected numbers if area did not effect proportion of each collar:')\n",
    "print (expected)\n",
    "print(dof)\n",
    "print(V)"
   ]
  },
  {
   "cell_type": "code",
   "execution_count": null,
   "metadata": {},
   "outputs": [],
   "source": []
  }
 ],
 "metadata": {
  "kernelspec": {
   "display_name": "Python 3",
   "language": "python",
   "name": "python3"
  },
  "language_info": {
   "codemirror_mode": {
    "name": "ipython",
    "version": 3
   },
   "file_extension": ".py",
   "mimetype": "text/x-python",
   "name": "python",
   "nbconvert_exporter": "python",
   "pygments_lexer": "ipython3",
   "version": "3.8.3"
  }
 },
 "nbformat": 4,
 "nbformat_minor": 4
}
